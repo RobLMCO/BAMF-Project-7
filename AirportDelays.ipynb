{
 "cells": [
  {
   "cell_type": "code",
   "execution_count": 1,
   "metadata": {},
   "outputs": [],
   "source": [
    "# Dependencies\n",
    "import numpy as np\n",
    "import pandas as pd\n",
    "import matplotlib.pyplot as plt\n",
    "import requests\n",
    "\n",
    "\n",
    "# Cirium API Key\n",
    "from config import api_key\n",
    "from config import app_ID\n",
    "\n"
   ]
  },
  {
   "cell_type": "code",
   "execution_count": 2,
   "metadata": {},
   "outputs": [
    {
     "name": "stdout",
     "output_type": "stream",
     "text": [
      "https://api.flightstats.com/flex/delayindex/rest/v1/json/airports/MCO?appId=a5435b4d&appKey=503793d2ffa457a3d2ce0dee9d09ba35&codeType=IATA&classification=1&score=1\n"
     ]
    }
   ],
   "source": [
    "# example url: \"https://api.flightstats.com/flex/delayindex/rest/v1/json/airports/MCO?appId=a5435b4d&appKey=503793d2ffa457a3d2ce0dee9d09ba35&codeType=IATA&classification=1&score=1\"\n",
    "\n",
    "base_url = \"https://api.flightstats.com/flex/delayindex/rest/v1/json/airports/\"\n",
    "airport_code = \"MCO\"\n",
    "app_IDcode = \"?appId=\"\n",
    "#app_ID\n",
    "app_KEYcode = \"&appKey=\"\n",
    "#api_key\n",
    "code_Type = \"&codeType=\"\n",
    "airport_code_type = \"IATA\"\n",
    "delay_class_code = \"&classification=\"\n",
    "delay_class = \"1\"\n",
    "delay_score_code = \"&score=\"\n",
    "delay_score = \"1\"\n",
    "\n",
    "airport_delay_query_url = base_url + airport_code + app_IDcode + app_ID + app_KEYcode + api_key + code_Type + airport_code_type + delay_class_code + delay_class + delay_score_code + delay_score\n",
    "\n",
    "print(airport_delay_query_url)\n"
   ]
  },
  {
   "cell_type": "code",
   "execution_count": null,
   "metadata": {},
   "outputs": [],
   "source": []
  }
 ],
 "metadata": {
  "anaconda-cloud": {},
  "kernelspec": {
   "display_name": "Python [conda env:PythonData2]",
   "language": "python",
   "name": "conda-env-PythonData2-py"
  },
  "language_info": {
   "codemirror_mode": {
    "name": "ipython",
    "version": 3
   },
   "file_extension": ".py",
   "mimetype": "text/x-python",
   "name": "python",
   "nbconvert_exporter": "python",
   "pygments_lexer": "ipython3",
   "version": "3.6.7"
  }
 },
 "nbformat": 4,
 "nbformat_minor": 1
}
