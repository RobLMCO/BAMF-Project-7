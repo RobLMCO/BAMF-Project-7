{
 "cells": [
  {
   "cell_type": "code",
   "execution_count": 2,
   "metadata": {},
   "outputs": [
    {
     "ename": "TypeError",
     "evalue": "Must pass either `items`, `like`, or `regex`",
     "output_type": "error",
     "traceback": [
      "\u001b[1;31m---------------------------------------------------------------------------\u001b[0m",
      "\u001b[1;31mTypeError\u001b[0m                                 Traceback (most recent call last)",
      "\u001b[1;32m<ipython-input-2-6f3b3ba971fb>\u001b[0m in \u001b[0;36m<module>\u001b[1;34m\u001b[0m\n\u001b[0;32m     23\u001b[0m \u001b[1;31m#flights_First_Flight = flights_df[\"request\"]\u001b[0m\u001b[1;33m\u001b[0m\u001b[1;33m\u001b[0m\u001b[1;33m\u001b[0m\u001b[0m\n\u001b[0;32m     24\u001b[0m \u001b[1;31m#flights_First_Flight\u001b[0m\u001b[1;33m\u001b[0m\u001b[1;33m\u001b[0m\u001b[1;33m\u001b[0m\u001b[0m\n\u001b[1;32m---> 25\u001b[1;33m \u001b[0mflights_df\u001b[0m \u001b[1;33m=\u001b[0m \u001b[0mflights_df\u001b[0m\u001b[1;33m.\u001b[0m\u001b[0mfilter\u001b[0m\u001b[1;33m(\u001b[0m\u001b[1;33m)\u001b[0m\u001b[1;33m\u001b[0m\u001b[1;33m\u001b[0m\u001b[0m\n\u001b[0m\u001b[0;32m     26\u001b[0m \u001b[1;33m\u001b[0m\u001b[0m\n",
      "\u001b[1;32mD:\\Users\\Black\\Anaconda3\\envs\\PythonData2\\lib\\site-packages\\pandas\\core\\generic.py\u001b[0m in \u001b[0;36mfilter\u001b[1;34m(self, items, like, regex, axis)\u001b[0m\n\u001b[0;32m   3911\u001b[0m             \u001b[1;32mreturn\u001b[0m \u001b[0mself\u001b[0m\u001b[1;33m.\u001b[0m\u001b[0mloc\u001b[0m\u001b[1;33m(\u001b[0m\u001b[0maxis\u001b[0m\u001b[1;33m=\u001b[0m\u001b[0maxis\u001b[0m\u001b[1;33m)\u001b[0m\u001b[1;33m[\u001b[0m\u001b[0mvalues\u001b[0m\u001b[1;33m]\u001b[0m\u001b[1;33m\u001b[0m\u001b[1;33m\u001b[0m\u001b[0m\n\u001b[0;32m   3912\u001b[0m         \u001b[1;32melse\u001b[0m\u001b[1;33m:\u001b[0m\u001b[1;33m\u001b[0m\u001b[1;33m\u001b[0m\u001b[0m\n\u001b[1;32m-> 3913\u001b[1;33m             \u001b[1;32mraise\u001b[0m \u001b[0mTypeError\u001b[0m\u001b[1;33m(\u001b[0m\u001b[1;34m'Must pass either `items`, `like`, or `regex`'\u001b[0m\u001b[1;33m)\u001b[0m\u001b[1;33m\u001b[0m\u001b[1;33m\u001b[0m\u001b[0m\n\u001b[0m\u001b[0;32m   3914\u001b[0m \u001b[1;33m\u001b[0m\u001b[0m\n\u001b[0;32m   3915\u001b[0m     \u001b[1;32mdef\u001b[0m \u001b[0mhead\u001b[0m\u001b[1;33m(\u001b[0m\u001b[0mself\u001b[0m\u001b[1;33m,\u001b[0m \u001b[0mn\u001b[0m\u001b[1;33m=\u001b[0m\u001b[1;36m5\u001b[0m\u001b[1;33m)\u001b[0m\u001b[1;33m:\u001b[0m\u001b[1;33m\u001b[0m\u001b[1;33m\u001b[0m\u001b[0m\n",
      "\u001b[1;31mTypeError\u001b[0m: Must pass either `items`, `like`, or `regex`"
     ]
    }
   ],
   "source": [
    "# Dependencies\n",
    "import numpy as np\n",
    "import pandas as pd\n",
    "import matplotlib.pyplot as plt\n",
    "import requests\n",
    "import json, glob\n",
    "from collections import defaultdict\n",
    "\n",
    "\n",
    "\n",
    "# Read our airport data into pandas\n",
    "dict_for_df = defaultdict(list)\n",
    "\n",
    "with open(\"Historic_Request_MCO_20190122_9.json\",'r') as f:\n",
    "    for line in f.readlines():\n",
    "        curr_find = line.find(\"/\")\n",
    "        if line == \"\\n\":\n",
    "            continue\n",
    "        else:\n",
    "            dict_for_df['text'].append(line.replace(\"\\n\",\"\").strip())\n",
    " \n",
    "flights_df =  pd.DataFrame(dict_for_df)\n",
    "#flights_First_Flight = flights_df[\"request\"]\n",
    "#flights_First_Flight\n",
    "flights_df = flights_df.filter()\n",
    "\n"
   ]
  },
  {
   "cell_type": "code",
   "execution_count": null,
   "metadata": {},
   "outputs": [],
   "source": []
  },
  {
   "cell_type": "code",
   "execution_count": null,
   "metadata": {},
   "outputs": [],
   "source": []
  },
  {
   "cell_type": "code",
   "execution_count": null,
   "metadata": {},
   "outputs": [],
   "source": [
    "# Date Range A: Normal Operating Period 22nd Dec 2017 - 25th Jan 2018\n",
    "# Date Range B: Shutdown Operating Period 22nd Dec 2018 - 25th Jan 2019\n",
    "# Time Block: 2pm - 8pm\n",
    "# Carrier: Delta Airlines (DL)\n",
    "# Data Fields: airport code, date, carrier code, \n",
    "# Filter by departureGateDelayMinutes, actualGateDeparture\n",
    "\n",
    "\n",
    "# Describe() for Date Range A\n",
    "# Describe() for Date Range B\n",
    "# Compare total number of flights, average flights per day\n",
    "\n",
    "# Plot average delay by hour in a random day during Date Range A\n",
    "# Plot average delay by hour in a random day during Date Range B\n"
   ]
  },
  {
   "cell_type": "code",
   "execution_count": null,
   "metadata": {},
   "outputs": [],
   "source": []
  }
 ],
 "metadata": {
  "anaconda-cloud": {},
  "kernelspec": {
   "display_name": "Python [conda env:PythonData2]",
   "language": "python",
   "name": "conda-env-PythonData2-py"
  },
  "language_info": {
   "codemirror_mode": {
    "name": "ipython",
    "version": 3
   },
   "file_extension": ".py",
   "mimetype": "text/x-python",
   "name": "python",
   "nbconvert_exporter": "python",
   "pygments_lexer": "ipython3",
   "version": "3.6.7"
  }
 },
 "nbformat": 4,
 "nbformat_minor": 1
}
